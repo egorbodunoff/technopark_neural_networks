{
 "cells": [
  {
   "cell_type": "code",
   "execution_count": 4,
   "id": "8ca9a9f9-5d7d-413e-ae28-0440fbe50ebf",
   "metadata": {},
   "outputs": [],
   "source": [
    "import time\n",
    "import os\n",
    "import torch\n",
    "import torch.nn as nn\n",
    "import torch.optim as optim\n",
    "import torch.nn.functional as F\n",
    "from torch.utils.tensorboard import SummaryWriter\n",
    "from tqdm import tqdm\n",
    "from torchvision import datasets, transforms\n",
    "from torch.utils.data import DataLoader, random_split"
   ]
  },
  {
   "cell_type": "code",
   "execution_count": 5,
   "id": "fc4864cd-bb9e-46e2-93dc-d3b557754980",
   "metadata": {},
   "outputs": [
    {
     "name": "stdout",
     "output_type": "stream",
     "text": [
      "{'indoor': 0, 'outdoor': 1}\n"
     ]
    }
   ],
   "source": [
    "data_dir = './indoor_outdoor_dataset/'\n",
    "\n",
    "transform = transforms.Compose([\n",
    "    transforms.Resize(224),          \n",
    "    transforms.CenterCrop(224),       \n",
    "    transforms.ToTensor(),          \n",
    "    transforms.Normalize(mean=[0.485, 0.456, 0.406], std=[0.229, 0.224, 0.225])\n",
    "])\n",
    "\n",
    "full_data = datasets.ImageFolder(data_dir, transform=transform)\n",
    "\n",
    "class_indices = {class_name: [] for class_name in full_data.classes}\n",
    "\n",
    "for idx, (path, label) in enumerate(full_data.samples):\n",
    "    class_name = full_data.classes[label]\n",
    "    class_indices[class_name].append((idx, path))\n",
    "\n",
    "filtered_indices = []\n",
    "for class_name, items in class_indices.items():\n",
    "    sorted_items = sorted(items, key=lambda x: os.path.basename(x[1]))\n",
    "    half_len = len(sorted_items) // 2\n",
    "    filtered_indices.extend([idx for idx, _ in sorted_items[:half_len]])\n",
    "\n",
    "filtered_data = torch.utils.data.Subset(full_data, filtered_indices)\n",
    "\n",
    "train_size = int(0.8 * len(filtered_data))\n",
    "val_size = int(0.1 * len(filtered_data))\n",
    "test_size = len(filtered_data) - train_size - val_size\n",
    "\n",
    "train_data, val_data, test_data = random_split(filtered_data, [train_size, val_size, test_size])\n",
    "\n",
    "train_loader = DataLoader(train_data, batch_size=32, shuffle=True)\n",
    "val_loader = DataLoader(val_data, batch_size=32, shuffle=False)\n",
    "test_loader = DataLoader(test_data, batch_size=32, shuffle=False)\n",
    "\n",
    "print(full_data.class_to_idx)"
   ]
  },
  {
   "cell_type": "code",
   "execution_count": 64,
   "id": "c2d3d816-74ce-4909-a3d6-85e797b14166",
   "metadata": {},
   "outputs": [],
   "source": [
    "# data_dir = './indoor_outdoor_dataset/'\n",
    "\n",
    "# train_transform = transforms.Compose([\n",
    "#     transforms.Resize(256),              \n",
    "#     transforms.RandomResizedCrop(224),   \n",
    "#     transforms.RandomHorizontalFlip(),   \n",
    "#     transforms.RandomRotation(15),       \n",
    "#     transforms.ColorJitter(brightness=0.4, contrast=0.4, saturation=0.4),  \n",
    "#     transforms.ToTensor(),\n",
    "#     transforms.Normalize(mean=[0.485, 0.456, 0.406], std=[0.229, 0.224, 0.225])\n",
    "# ])\n",
    "\n",
    "# test_transform = transforms.Compose([\n",
    "#     transforms.Resize(224),\n",
    "#     transforms.CenterCrop(224),\n",
    "#     transforms.ToTensor(),\n",
    "#     transforms.Normalize(mean=[0.485, 0.456, 0.406], std=[0.229, 0.224, 0.225])\n",
    "# ])\n",
    "\n",
    "# full_data = datasets.ImageFolder(data_dir, transform=test_transform)\n",
    "\n",
    "# class_indices = {class_name: [] for class_name in full_data.classes}\n",
    "# for idx, (path, label) in enumerate(full_data.samples):\n",
    "#     class_name = full_data.classes[label]\n",
    "#     class_indices[class_name].append((idx, path))\n",
    "\n",
    "# filtered_indices = []\n",
    "# for class_name, items in class_indices.items():\n",
    "#     sorted_items = sorted(items, key=lambda x: os.path.basename(x[1]))\n",
    "#     half_len = len(sorted_items) // 4\n",
    "#     filtered_indices.extend([idx for idx, _ in sorted_items[:half_len]])\n",
    "\n",
    "# filtered_data = torch.utils.data.Subset(full_data, filtered_indices)\n",
    "\n",
    "# train_size = int(0.8 * len(filtered_data))\n",
    "# val_size = int(0.1 * len(filtered_data))\n",
    "# test_size = len(filtered_data) - train_size - val_size\n",
    "\n",
    "# train_data, val_data, test_data = random_split(filtered_data, [train_size, val_size, test_size])\n",
    "\n",
    "# train_data.dataset.transform = train_transform\n",
    "# val_data.dataset.transform = test_transform\n",
    "# test_data.dataset.transform = test_transform\n",
    "\n",
    "# train_loader = DataLoader(train_data, batch_size=32, shuffle=True)\n",
    "# val_loader = DataLoader(val_data, batch_size=32, shuffle=False)\n",
    "# test_loader = DataLoader(test_data, batch_size=32, shuffle=False)\n",
    "\n",
    "# print(full_data.class_to_idx)\n"
   ]
  },
  {
   "cell_type": "code",
   "execution_count": 6,
   "id": "8ffe28dd-9025-4026-917c-158e226a189f",
   "metadata": {},
   "outputs": [],
   "source": [
    "class BinaryClassifierBaseline(nn.Module):\n",
    "    def __init__(self):\n",
    "        super(BinaryClassifierCNN, self).__init__()\n",
    "        self.block1 = self.vgg_block(3, 32, 2)\n",
    "        self.block2 = self.vgg_block(32, 64, 2)\n",
    "        self.block3 = self.vgg_block(64, 128, 2)\n",
    "        self.fc1 = nn.Linear(128 * 28 * 28, 128)\n",
    "        self.fc2 = nn.Linear(128, 2)\n",
    "        self.dropout = nn.Dropout(0.4)\n",
    "    \n",
    "    def vgg_block(self, in_channels, out_channels, num_convs):\n",
    "        layers = []\n",
    "        for _ in range(num_convs):\n",
    "            layers.append(nn.Conv2d(in_channels, out_channels, kernel_size=3, padding=1))\n",
    "            layers.append(nn.BatchNorm2d(out_channels))\n",
    "            layers.append(nn.ReLU(inplace=True))\n",
    "            in_channels = out_channels\n",
    "        layers.append(nn.MaxPool2d(kernel_size=2, stride=2))\n",
    "        return nn.Sequential(*layers)\n",
    "    \n",
    "    def forward(self, x):\n",
    "        x = self.block1(x)\n",
    "        x = self.block2(x)\n",
    "        x = self.block3(x)\n",
    "        x = x.view(x.size(0), -1)\n",
    "        x = F.relu(self.fc1(x))\n",
    "        x = self.dropout(x)\n",
    "        return self.fc2(x)"
   ]
  },
  {
   "cell_type": "code",
   "execution_count": 7,
   "id": "be4dcab1-0eec-49dc-bf8e-b99d38782359",
   "metadata": {},
   "outputs": [],
   "source": [
    "class ResidualBlock(nn.Module):\n",
    "    def __init__(self, in_channels, out_channels, use_1x1conv=False, strides=1):\n",
    "        super(ResidualBlock, self).__init__()\n",
    "        self.conv1 = nn.Conv2d(in_channels, out_channels, kernel_size=3, padding=1, stride=strides)\n",
    "        self.bn1 = nn.BatchNorm2d(out_channels)\n",
    "        self.conv2 = nn.Conv2d(out_channels, out_channels, kernel_size=3, padding=1)\n",
    "        self.bn2 = nn.BatchNorm2d(out_channels)\n",
    "        self.relu = nn.ReLU(inplace=True)\n",
    "        self.use_1x1conv = use_1x1conv\n",
    "        if use_1x1conv: \n",
    "            self.conv1x1 = nn.Conv2d(in_channels, out_channels, kernel_size=1, stride=strides)\n",
    "\n",
    "    def forward(self, x):\n",
    "        residual = x\n",
    "        x = self.relu(self.bn1(self.conv1(x)))\n",
    "        x = self.bn2(self.conv2(x))\n",
    "        if self.use_1x1conv:\n",
    "            residual = self.conv1x1(residual) \n",
    "        x += residual \n",
    "        return self.relu(x)\n",
    "\n",
    "class BinaryClassifierCNN(nn.Module):\n",
    "    def __init__(self):\n",
    "        super(BinaryClassifierCNN, self).__init__()\n",
    "        self.block1 = ResidualBlock(3, 64, use_1x1conv=True, strides=2)\n",
    "        self.block2 = ResidualBlock(64, 128, use_1x1conv=True, strides=2)\n",
    "        self.block3 = ResidualBlock(128, 256, use_1x1conv=True, strides=2)\n",
    "        self.block4 = ResidualBlock(256, 512, use_1x1conv=True, strides=2)\n",
    "        self.block5 = ResidualBlock(512, 512, use_1x1conv=True, strides=2)\n",
    "        self.block6 = ResidualBlock(512, 1024, use_1x1conv=True, strides=2)\n",
    "\n",
    "        self.adaptive_pool = nn.AdaptiveAvgPool2d((1, 1))\n",
    "        \n",
    "        self.fc1 = nn.Linear(1024, 256)\n",
    "        self.fc2 = nn.Linear(256, 2)\n",
    "        self.dropout = nn.Dropout(0.3)\n",
    "\n",
    "    def forward(self, x):\n",
    "        x = self.block1(x)\n",
    "        x = self.block2(x)\n",
    "        x = self.block3(x)\n",
    "        x = self.block4(x)\n",
    "        x = self.block5(x)  \n",
    "        x = self.block6(x)\n",
    "        \n",
    "        x = self.adaptive_pool(x)  \n",
    "        x = x.view(x.size(0), -1) \n",
    "        \n",
    "        x = F.relu(self.fc1(x))\n",
    "        x = self.dropout(x)\n",
    "        return self.fc2(x)"
   ]
  },
  {
   "cell_type": "code",
   "execution_count": 8,
   "id": "27c76f0a-d5c5-4ee8-b175-660e9518733d",
   "metadata": {},
   "outputs": [],
   "source": [
    "class VGGBlock(nn.Module):\n",
    "    def __init__(self, in_channels, out_channels, num_convs=2, use_batchnorm=True):\n",
    "        super(VGGBlock, self).__init__()\n",
    "        layers = []\n",
    "        for _ in range(num_convs):\n",
    "            layers.append(nn.Conv2d(in_channels, out_channels, kernel_size=3, padding=1))\n",
    "            if use_batchnorm:\n",
    "                layers.append(nn.BatchNorm2d(out_channels))\n",
    "            layers.append(nn.ReLU(inplace=True))\n",
    "            in_channels = out_channels\n",
    "        self.conv_block = nn.Sequential(*layers)\n",
    "\n",
    "    def forward(self, x):\n",
    "        return self.conv_block(x)\n",
    "\n",
    "class BinaryClassifierVGG(nn.Module):\n",
    "    def __init__(self):\n",
    "        super(BinaryClassifierVGG, self).__init__()\n",
    "        \n",
    "        self.block1 = VGGBlock(3, 64, num_convs=2) \n",
    "        self.block2 = VGGBlock(64, 128, num_convs=2)\n",
    "        self.block3 = VGGBlock(128, 256, num_convs=3)\n",
    "        self.block4 = VGGBlock(256, 512, num_convs=3)\n",
    "        self.block5 = VGGBlock(512, 512, num_convs=3)\n",
    "        self.block6 = VGGBlock(512, 1024, num_convs=3) \n",
    "\n",
    "        self.pool = nn.MaxPool2d(kernel_size=2, stride=2)\n",
    "\n",
    "        self.adaptive_pool = nn.AdaptiveAvgPool2d((1, 1))\n",
    "\n",
    "        self.fc1 = nn.Linear(1024, 256)\n",
    "        self.fc2 = nn.Linear(256, 2)\n",
    "        self.dropout = nn.Dropout(0.5)\n",
    "\n",
    "    def forward(self, x):\n",
    "        x = self.pool(self.block1(x))  \n",
    "        x = self.pool(self.block2(x))\n",
    "        x = self.pool(self.block3(x))\n",
    "        x = self.pool(self.block4(x))\n",
    "        x = self.pool(self.block5(x))\n",
    "        x = self.pool(self.block6(x))  \n",
    "\n",
    "        x = self.adaptive_pool(x)  \n",
    "        x = x.view(x.size(0), -1)  \n",
    "\n",
    "        x = F.relu(self.fc1(x))\n",
    "        x = self.dropout(x)\n",
    "        return self.fc2(x)"
   ]
  },
  {
   "cell_type": "code",
   "execution_count": 11,
   "id": "60ff4ab0-2084-48ce-87e8-967f8ea73b97",
   "metadata": {},
   "outputs": [],
   "source": [
    "model = BinaryClassifierCNN()\n",
    "optimizer = optim.Adam(model.parameters(), lr=0.001)\n",
    "criterion = nn.CrossEntropyLoss()"
   ]
  },
  {
   "cell_type": "code",
   "execution_count": 9,
   "id": "61072b96-f343-4e93-b94d-565edc801967",
   "metadata": {},
   "outputs": [],
   "source": [
    "def load_checkpoint(filename='cnn_checkpoint.pth'):\n",
    "    checkpoint = torch.load(filename)\n",
    "    return checkpoint"
   ]
  },
  {
   "cell_type": "code",
   "execution_count": 13,
   "id": "d5f03fc2-e0bf-4c95-8e0c-03f5f9b48b2e",
   "metadata": {},
   "outputs": [],
   "source": [
    "checkpoint = load_checkpoint('cnn_checkpoint.pth')\n",
    "model.load_state_dict(checkpoint['model_state_dict'])\n",
    "optimizer.load_state_dict(checkpoint['optimizer_state_dict'])\n",
    "start_epoch = checkpoint['epoch']\n",
    "best_val_acc = checkpoint['accuracy']"
   ]
  },
  {
   "cell_type": "code",
   "execution_count": 24,
   "id": "ed88950d-157c-41f7-94b8-834e6427714a",
   "metadata": {},
   "outputs": [],
   "source": [
    "def save_checkpoint(state, filename='checkpoint_vgg.pth'):\n",
    "    \"\"\"Сохранение состояния модели\"\"\"\n",
    "    torch.save(state, filename)\n",
    "\n",
    "def evaluate_model(model, loader, criterion):\n",
    "    model.eval()\n",
    "    running_loss = 0.0\n",
    "    correct = 0\n",
    "    total = 0\n",
    "\n",
    "    all_labels = []\n",
    "    all_predictions = []\n",
    "    \n",
    "    with torch.no_grad():\n",
    "        for inputs, labels in loader:\n",
    "            outputs = model(inputs)\n",
    "            loss = criterion(outputs, labels)\n",
    "\n",
    "            running_loss += loss.item()\n",
    "            predicted = torch.argmax(outputs, dim=1)\n",
    "            correct += (predicted == labels).sum().item()\n",
    "            total += labels.size(0)\n",
    "\n",
    "            all_labels.extend(labels.numpy())\n",
    "            all_predictions.extend(predicted.numpy())\n",
    "    \n",
    "    loss = running_loss / len(loader)\n",
    "    accuracy = correct / total\n",
    "    return loss, accuracy, (all_labels, all_predictions)\n",
    "\n",
    "def train_model(model, train_loader, val_loader, criterion, optimizer, num_epochs=10):\n",
    "    best_val_acc = 0.0\n",
    "    \n",
    "    writer = SummaryWriter('runs/indoor_outdoor_CNN')\n",
    "\n",
    "    for epoch in range(num_epochs):\n",
    "        model.train()\n",
    "        running_loss = 0.0\n",
    "        correct = 0\n",
    "        total = 0\n",
    "\n",
    "        batch_time_start = time.time()\n",
    "        for i, (inputs, labels) in enumerate(tqdm(train_loader, desc=f'Epoch {epoch + 1}/{num_epochs}', leave=False)):\n",
    "            optimizer.zero_grad()\n",
    "            \n",
    "            outputs = model(inputs)\n",
    "            loss = criterion(outputs, labels)\n",
    "            \n",
    "            loss.backward()\n",
    "            optimizer.step()\n",
    "            \n",
    "            running_loss += loss.item()\n",
    "            predicted = torch.argmax(outputs, dim=1)\n",
    "            correct += (predicted == labels).sum().item()\n",
    "            total += labels.size(0)\n",
    "\n",
    "            if (i + 1) % 300 == 0:\n",
    "                avg_loss = running_loss / 300\n",
    "                train_acc = correct / total\n",
    "                writer.add_scalar('Loss/train_batch', avg_loss, epoch * len(train_loader) + i)\n",
    "                writer.add_scalar('Accuracy/train_batch', train_acc, epoch * len(train_loader) + i)\n",
    "                running_loss = 0.0\n",
    "                correct = 0\n",
    "                total = 0\n",
    "\n",
    "        train_loss = running_loss / len(train_loader)\n",
    "        train_acc = correct / total\n",
    "        \n",
    "        val_loss, val_acc = evaluate_model(model, val_loader, criterion)\n",
    "        writer.add_scalar('Loss/train', train_loss, epoch)   \n",
    "        writer.add_scalar('Accuracy/train', train_acc, epoch)\n",
    "        writer.add_scalar('Loss/val', val_loss, epoch)\n",
    "        writer.add_scalar('Accuracy/val', val_acc, epoch)\n",
    "\n",
    "        if val_acc > best_val_acc:\n",
    "            print(f'Validation accuracy improved from {best_val_acc:.4f} to {val_acc:.4f}. Saving model...')\n",
    "            best_val_acc = val_acc\n",
    "            \n",
    "            checkpoint = {\n",
    "                'epoch': epoch + 1,\n",
    "                'model_state_dict': model.state_dict(),\n",
    "                'optimizer_state_dict': optimizer.state_dict(),\n",
    "                'loss': val_loss,\n",
    "                'accuracy': val_acc\n",
    "            }\n",
    "            save_checkpoint(checkpoint, 'cnn_checkpoint.pth')\n",
    "            \n",
    "    writer.close()"
   ]
  },
  {
   "cell_type": "code",
   "execution_count": null,
   "id": "d02a9bd9-2d27-4097-9c0d-12a3b08ed4b0",
   "metadata": {},
   "outputs": [],
   "source": [
    "num_epochs = 2\n",
    "train_model(model, train_loader, val_loader, criterion, optimizer, num_epochs)"
   ]
  },
  {
   "cell_type": "code",
   "execution_count": 25,
   "id": "0216adf8-55b0-472e-8704-673f570061d8",
   "metadata": {},
   "outputs": [],
   "source": [
    "test_loss, test_acc, labels_and_predictions = evaluate_model(model, test_loader, criterion)"
   ]
  },
  {
   "cell_type": "code",
   "execution_count": 26,
   "id": "fcca0030-ef91-4fee-9fcf-c1e829a9008a",
   "metadata": {},
   "outputs": [
    {
     "data": {
      "text/plain": [
       "0.9285331514590539"
      ]
     },
     "execution_count": 26,
     "metadata": {},
     "output_type": "execute_result"
    }
   ],
   "source": [
    "test_acc"
   ]
  },
  {
   "cell_type": "markdown",
   "id": "3b7a45a7-2cd5-44b3-a834-a4dd15477c30",
   "metadata": {},
   "source": [
    "# 1) Выведите кол-во обучаемых параметров сети;"
   ]
  },
  {
   "cell_type": "code",
   "execution_count": 21,
   "id": "3a7e8a77-8688-484b-87fc-211d5961c17e",
   "metadata": {},
   "outputs": [
    {
     "name": "stdout",
     "output_type": "stream",
     "text": [
      "количество обучаемых параметров: 24796866\n"
     ]
    }
   ],
   "source": [
    "num_params = sum(p.numel() for p in model.parameters() if p.requires_grad)\n",
    "\n",
    "print(f'количество обучаемых параметров: {num_params}')"
   ]
  },
  {
   "cell_type": "markdown",
   "id": "9a99c3f8-58da-4064-ab1a-1ea03a8af99e",
   "metadata": {},
   "source": [
    "# 2) Напишите несколько предложений выводов - что помогло в решении и повысило качество, что нет."
   ]
  },
  {
   "cell_type": "markdown",
   "id": "3c8b4a6e-37af-4309-b8f1-1d35f5d9b2ca",
   "metadata": {},
   "source": [
    "Добавление большего количества сверточных блоков привело к большему числу параметров, большему полю восприятия,\n",
    "это позволило распозновать более сложные особенности изображений, что улучшило точность.  \n",
    "Глубина сети увеличилась, чтобы избежать затухание градиентов я реализовал residual connections, обучение стало более стабильным.\n",
    "Был полезен Batch Normalization, который нормализует распределение выходов нейронов.\n",
    "\n",
    "на cpu жестко некомфортно обучать :("
   ]
  },
  {
   "cell_type": "markdown",
   "id": "78a2fb48-cb01-4b56-adf8-60df0a2db54e",
   "metadata": {},
   "source": [
    "# 3) Посчитайте F1-score на тестовой подвыборке."
   ]
  },
  {
   "cell_type": "code",
   "execution_count": 29,
   "id": "34008558-28e1-40c1-ab38-3acca448bd66",
   "metadata": {},
   "outputs": [
    {
     "name": "stdout",
     "output_type": "stream",
     "text": [
      "f1_score=0.9253016956056825\n"
     ]
    }
   ],
   "source": [
    "from sklearn.metrics import f1_score\n",
    "\n",
    "\n",
    "all_labels, all_predictions = labels_and_predictions\n",
    "f1_score = f1_score(all_labels, all_predictions)\n",
    "\n",
    "print(f'{f1_score=}')"
   ]
  },
  {
   "cell_type": "markdown",
   "id": "332e6250-4039-40f5-b8af-df7e8f1d9c8f",
   "metadata": {},
   "source": [
    "# 4) Выведите confusion matrix для тестовой подвыборки."
   ]
  },
  {
   "cell_type": "code",
   "execution_count": 62,
   "id": "7e03c018-9eb9-41c2-9abd-224c2411c3f4",
   "metadata": {},
   "outputs": [
    {
     "data": {
      "image/png": "[encoded data removed]",
      "text/plain": [
       "<Figure size 800x600 with 2 Axes>"
      ]
     },
     "metadata": {},
     "output_type": "display_data"
    }
   ],
   "source": [
    "import numpy as np\n",
    "import matplotlib.pyplot as plt\n",
    "import seaborn as sns\n",
    "\n",
    "\n",
    "y_true = np.array(all_labels)\n",
    "y_pred = np.array(all_predictions)\n",
    "\n",
    "TP = np.sum((y_true == 1) & (y_pred == 1))\n",
    "TN = np.sum((y_true == 0) & (y_pred == 0))\n",
    "FP = np.sum((y_true == 0) & (y_pred == 1))\n",
    "FN = np.sum((y_true == 1) & (y_pred == 0))\n",
    "\n",
    "confusion_matrix = np.array([[TN, FP], \n",
    "                              [FN, TP]])\n",
    "\n",
    "plt.figure(figsize=(8, 6))\n",
    "sns.heatmap(confusion_matrix, annot=True, fmt='d', cmap='Blues',\n",
    "            xticklabels=['Predicted Negative', 'Predicted Positive'],\n",
    "            yticklabels=['Actual Negative', 'Actual Positive'])\n",
    "plt.xlabel('Predicted Labels')\n",
    "plt.ylabel('True Labels')\n",
    "plt.title('Confusion Matrix')\n",
    "plt.show()"
   ]
  },
  {
   "cell_type": "code",
   "execution_count": 63,
   "id": "c302cb86-1877-4710-860e-f2933733968c",
   "metadata": {},
   "outputs": [
    {
     "data": {
      "text/plain": [
       "array([[9974,  656],\n",
       "       [ 811, 9086]])"
      ]
     },
     "execution_count": 63,
     "metadata": {},
     "output_type": "execute_result"
    }
   ],
   "source": [
    "confusion_matrix"
   ]
  },
  {
   "cell_type": "code",
   "execution_count": null,
   "id": "b96d5af2-c0c0-43a3-ab8a-b31450ba1946",
   "metadata": {},
   "outputs": [],
   "source": []
  }
 ],
 "metadata": {
  "kernelspec": {
   "display_name": "Python 3 (ipykernel)",
   "language": "python",
   "name": "python3"
  },
  "language_info": {
   "codemirror_mode": {
    "name": "ipython",
    "version": 3
   },
   "file_extension": ".py",
   "mimetype": "text/x-python",
   "name": "python",
   "nbconvert_exporter": "python",
   "pygments_lexer": "ipython3",
   "version": "3.11.8"
  }
 },
 "nbformat": 4,
 "nbformat_minor": 5
}
